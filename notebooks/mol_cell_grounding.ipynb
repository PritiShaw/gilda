{
 "cells": [
  {
   "cell_type": "markdown",
   "metadata": {},
   "source": [
    "## Load the grounding reference JSON\n",
    "We choose one of the test JSONs from the grounding-search repository and load it locally."
   ]
  },
  {
   "cell_type": "code",
   "execution_count": 2,
   "metadata": {
    "pycharm": {
     "is_executing": false,
     "name": "#%%\n"
    }
   },
   "outputs": [],
   "source": [
    "import json\n",
    "import copy\n",
    "import requests\n",
    "from collections import Counter\n",
    "json_url = ('https://raw.githubusercontent.com/PathwayCommons/'\n",
    "            'grounding-search/8e3b1d7060dca3ca61325e03dadb33abb529caeb/'\n",
    "            'test/util/data/molecular-cell.json')\n",
    "def load_json(url):\n",
    "    res = requests.get(url)\n",
    "    return json.loads(res.text)\n",
    "test_json = load_json(json_url)        "
   ]
  },
  {
   "cell_type": "code",
   "execution_count": 3,
   "metadata": {},
   "outputs": [
    {
     "data": {
      "text/plain": [
       "'https://raw.githubusercontent.com/PathwayCommons/grounding-search/8e3b1d7060dca3ca61325e03dadb33abb529caeb/test/util/data/molecular-cell.json'"
      ]
     },
     "execution_count": 3,
     "metadata": {},
     "output_type": "execute_result"
    }
   ],
   "source": [
    "json_url"
   ]
  },
  {
   "cell_type": "markdown",
   "metadata": {},
   "source": [
    "## Set up a the call to the Gilda service\n",
    "Here we specify the URL for the Gilda service and define a simple function to send a request to the service and return the top grounding result."
   ]
  },
  {
   "cell_type": "code",
   "execution_count": 4,
   "metadata": {},
   "outputs": [],
   "source": [
    "grounding_url = 'http://34.201.164.108:8001/ground'\n",
    "#grounding_url = 'http://localhost:8001/ground'\n",
    "\n",
    "def ground(text, context):\n",
    "    res = requests.post(grounding_url, json={'text': text, 'context': context})\n",
    "    rj  = res.json()\n",
    "    if not rj:\n",
    "        return None\n",
    "    else:\n",
    "        return rj[0]"
   ]
  },
  {
   "cell_type": "markdown",
   "metadata": {},
   "source": [
    "## Ground the reference text strings with Gilda\n",
    "We can now iterate over all the papers and entities in the JSON and store each entity text, along with its sentence for grounding. The resulting JSON has the same structure as the original allowing easier comparison. We also use INDRA's HGNC resource manager to map to NCBI groundings whenever available, again for easier comparison with the reference."
   ]
  },
  {
   "cell_type": "code",
   "execution_count": 5,
   "metadata": {},
   "outputs": [],
   "source": [
    "from indra.databases import hgnc_client\n",
    "gilda_json = copy.deepcopy(test_json)\n",
    "for paper in gilda_json:\n",
    "    for entity in paper['entities']:\n",
    "        text = entity['text']\n",
    "        sentence = entity['sentence']\n",
    "        grounding = ground(text, sentence)\n",
    "        # If there is no grounding, we enter Nones\n",
    "        if not grounding:\n",
    "            entity['namespace'] = None\n",
    "            entity['xref_id'] = None\n",
    "        else:\n",
    "            db, id = grounding['term']['db'].lower(), grounding['term']['id']\n",
    "            # We get NCBI mappings for the genes that were grounded to for consistency\n",
    "            # with the reference\n",
    "            if db == 'hgnc':\n",
    "                ncbi_id = hgnc_client.get_entrez_id(id)\n",
    "                db = 'ncbi'\n",
    "                id = ncbi_id\n",
    "            # As for CHEBI, we strip off the CHEBI: prefix from the ID for consistency\n",
    "            # with the reference\n",
    "            elif db == 'chebi':\n",
    "                id = id[6:]\n",
    "            entity['namespace'] = db\n",
    "            entity['xref_id'] = id"
   ]
  },
  {
   "cell_type": "markdown",
   "metadata": {},
   "source": [
    "## Analyze the results\n",
    "Let's calculate some statistics for the original JSON"
   ]
  },
  {
   "cell_type": "code",
   "execution_count": 6,
   "metadata": {},
   "outputs": [],
   "source": [
    "def get_grounding_stats(jd):\n",
    "    grounded = 0\n",
    "    all_entities = 0\n",
    "    ungrounded_texts = []\n",
    "    namespaces = []\n",
    "    for paper in jd:\n",
    "        for entity in paper['entities']:\n",
    "            all_entities += 1\n",
    "            if entity['namespace'] and entity['xref_id']:\n",
    "                grounded += 1\n",
    "                namespaces.append(entity['namespace'])\n",
    "            else:\n",
    "                ungrounded_texts.append(entity['text'])\n",
    "    print('Number of entity mentions: %s\\nNumber Grounded: %s' %\n",
    "          (all_entities, grounded))\n",
    "    print('Name spaces grounded to:')\n",
    "    for ns, count in sorted(Counter(namespaces).items(),\n",
    "                           key=lambda x: x[1], reverse=True):\n",
    "        print('- %s: %s' % (ns, count))\n",
    "    print('Ungrounded texts:')\n",
    "    for text, count in sorted(Counter(ungrounded_texts).items(),\n",
    "                              key=lambda x: x[1], reverse=True):\n",
    "        print('- %s: %s' % (text, count))"
   ]
  },
  {
   "cell_type": "code",
   "execution_count": 7,
   "metadata": {
    "scrolled": false
   },
   "outputs": [
    {
     "name": "stdout",
     "output_type": "stream",
     "text": [
      "Number of entity mentions: 573\n",
      "Number Grounded: 521\n",
      "Name spaces grounded to:\n",
      "- ncbi: 382\n",
      "- chebi: 139\n",
      "Ungrounded texts:\n",
      "- RPA: 4\n",
      "- APC: 2\n",
      "- AMPK: 2\n",
      "- PI3K: 2\n",
      "- glutathione S-transferase: 2\n",
      "- pocket proteins: 2\n",
      "- replication protein A: 1\n",
      "- PP2A: 1\n",
      "- 5-Ethynyl-2'-deoxyuridine: 1\n",
      "- EdU: 1\n",
      "- AktVIII: 1\n",
      "- BI-D1870: 1\n",
      "- SB216763: 1\n",
      "- Sin3: 1\n",
      "- H4: 1\n",
      "- H2: 1\n",
      "- PRMTs: 1\n",
      "- IkappaB kinase: 1\n",
      "- RelB NF-kappaB: 1\n",
      "- protein phosphatase 2b: 1\n",
      "- mTORC1: 1\n",
      "- HIF-1: 1\n",
      "- NF-kappaB: 1\n",
      "- CBF: 1\n",
      "- RLCK: 1\n",
      "- receptor-like cytoplasmic kinase: 1\n",
      "- PP1: 1\n",
      "- ER: 1\n",
      "- GSK2606414: 1\n",
      "- ISRIB: 1\n",
      "- AMPK1: 1\n",
      "- CaM: 1\n",
      "- DNA polymerase delta: 1\n",
      "- atezolizumab: 1\n",
      "- sirtuins: 1\n",
      "- topoisomerase IV: 1\n",
      "- anaphase-promoting complex: 1\n",
      "- SCF: 1\n",
      "- Pdhk: 1\n",
      "- GFAT: 1\n",
      "- glutamine-fructose-6-phosphate aminotransferase: 1\n",
      "- CIA: 1\n",
      "- Ubiquitin: 1\n",
      "- alpha-tubulin: 1\n"
     ]
    }
   ],
   "source": [
    "get_grounding_stats(test_json)"
   ]
  },
  {
   "cell_type": "markdown",
   "metadata": {},
   "source": [
    "And look at the same for the results produced by Gilda:"
   ]
  },
  {
   "cell_type": "code",
   "execution_count": 8,
   "metadata": {
    "scrolled": true
   },
   "outputs": [
    {
     "name": "stdout",
     "output_type": "stream",
     "text": [
      "Number of entity mentions: 573\n",
      "Number Grounded: 501\n",
      "Name spaces grounded to:\n",
      "- ncbi: 330\n",
      "- chebi: 129\n",
      "- fplx: 27\n",
      "- mesh: 14\n",
      "- go: 1\n",
      "Ungrounded texts:\n",
      "- Pontin: 2\n",
      "- Swe1: 2\n",
      "- Clb2: 2\n",
      "- Clb5: 2\n",
      "- pocket proteins: 2\n",
      "- CYCD: 2\n",
      "- CYCE: 2\n",
      "- U6 snRNA: 2\n",
      "- Ndd1: 1\n",
      "- Sli15: 1\n",
      "- Cdc55: 1\n",
      "- Pph21: 1\n",
      "- 5-Ethynyl-2'-deoxyuridine: 1\n",
      "- EdU: 1\n",
      "- AktVIII: 1\n",
      "- BI-D1870: 1\n",
      "- SB216763: 1\n",
      "- Ldh1: 1\n",
      "- Sin3: 1\n",
      "- PRMTs: 1\n",
      "- miR-196b-3p: 1\n",
      "- RelB NF-kappaB: 1\n",
      "- alpha-KG: 1\n",
      "- GDH1: 1\n",
      "- GDH2: 1\n",
      "- Snail3: 1\n",
      "- CRPK1: 1\n",
      "- CAMTA3: 1\n",
      "- MYB15: 1\n",
      "- open stomata 1: 1\n",
      "- MKK2: 1\n",
      "- AtCIPK3: 1\n",
      "- brassinosteroid-insensitive 1-EMS suppressor 1: 1\n",
      "- BES1: 1\n",
      "- COR15B: 1\n",
      "- RD29A: 1\n",
      "- KIN1: 1\n",
      "- RLCK: 1\n",
      "- receptor-like cytoplasmic kinase: 1\n",
      "- 14-3-3lambda: 1\n",
      "- IFNlambda: 1\n",
      "- miR-130: 1\n",
      "- IHO1: 1\n",
      "- gammaH2AX: 1\n",
      "- LC3B: 1\n",
      "- Cytb5: 1\n",
      "- GSK2606414: 1\n",
      "- ISRIB: 1\n",
      "- 14-3-3eta: 1\n",
      "- AMPK1: 1\n",
      "- atezolizumab: 1\n",
      "- RPA32: 1\n",
      "- YgdH: 1\n",
      "- PpnN: 1\n",
      "- pppGpp: 1\n",
      "- lacZ: 1\n",
      "- Clb3: 1\n",
      "- Bni1: 1\n",
      "- Bud3: 1\n",
      "- Bud6: 1\n",
      "- sterol regulatory element-binding protein-1C: 1\n",
      "- Pdhk: 1\n",
      "- L-Pk: 1\n",
      "- Scd-1: 1\n"
     ]
    }
   ],
   "source": [
    "get_grounding_stats(gilda_json)"
   ]
  },
  {
   "cell_type": "markdown",
   "metadata": {},
   "source": [
    "We can now compare the groundings in the reference and the ones provided by Gilda."
   ]
  },
  {
   "cell_type": "code",
   "execution_count": 9,
   "metadata": {},
   "outputs": [],
   "source": [
    "def compare_groundings(g1, g2):\n",
    "    if g1 == (None, None):\n",
    "        if g2 == (None, None):\n",
    "            return 'ungrounded_ungrounded'\n",
    "        else:\n",
    "            return 'ungrounded_grounded'\n",
    "    elif g2 == (None, None):\n",
    "        return 'grounded_ungrounded'\n",
    "    elif g1 == g2:\n",
    "        return 'grounded_matching'\n",
    "    else:\n",
    "        return 'grounded_different'\n",
    "\n",
    "comparison = {}\n",
    "for ref_block, gilda_block in zip(test_json, gilda_json):\n",
    "    for ref_entry, gilda_entry in zip(ref_block['entities'], gilda_block['entities']):\n",
    "        ref_grounding = (ref_entry['namespace'], ref_entry['xref_id'])\n",
    "        gilda_grounding = (gilda_entry['namespace'], gilda_entry['xref_id'])\n",
    "        comp = compare_groundings(ref_grounding, gilda_grounding)\n",
    "        if comp in comparison:\n",
    "            comparison[comp].append((ref_entry['text'], ref_grounding, gilda_grounding))\n",
    "        else:\n",
    "            comparison[comp] = [(ref_entry['text'], ref_grounding, gilda_grounding)]"
   ]
  },
  {
   "cell_type": "markdown",
   "metadata": {},
   "source": [
    "### Compare Gilda with the reference\n",
    "Let's now look at the comparison in detail and see if we can identify any patterns."
   ]
  },
  {
   "cell_type": "markdown",
   "metadata": {},
   "source": [
    "1. Both the reference and Gilda provided grounding but the groundings are different"
   ]
  },
  {
   "cell_type": "code",
   "execution_count": 10,
   "metadata": {
    "scrolled": false
   },
   "outputs": [
    {
     "data": {
      "text/plain": [
       "[('nitrogen', ('chebi', '25555'), ('mesh', 'D009584')),\n",
       " ('hydrogen', ('chebi', '49637'), ('mesh', 'D006859')),\n",
       " ('Ask1', ('ncbi', '853814'), ('ncbi', '4217')),\n",
       " ('Stb1', ('ncbi', '855407'), ('ncbi', '57216')),\n",
       " ('Net1', ('ncbi', '853369'), ('ncbi', '10276')),\n",
       " ('Sic1', ('ncbi', '850768'), ('ncbi', '2313')),\n",
       " ('Orc6', ('ncbi', '856518'), ('ncbi', '23594')),\n",
       " ('Foxk1', ('ncbi', '17425'), ('ncbi', '221937')),\n",
       " ('Tfeb', ('ncbi', '21425'), ('ncbi', '7942')),\n",
       " ('Atf4', ('ncbi', '11911'), ('ncbi', '468')),\n",
       " ('glucose', ('chebi', '4167'), ('chebi', '17234')),\n",
       " ('Foxk2', ('ncbi', '68837'), ('ncbi', '3607')),\n",
       " ('Shmt2', ('ncbi', '108037'), ('ncbi', '6472')),\n",
       " ('Pgm2', ('ncbi', '72157'), ('ncbi', '55276')),\n",
       " ('Mthfd1l', ('ncbi', '270685'), ('ncbi', '25902')),\n",
       " ('Eno1', ('ncbi', '13806'), ('ncbi', '2023')),\n",
       " ('Tpi1', ('ncbi', '21991'), ('ncbi', '7167')),\n",
       " ('Aldoa', ('ncbi', '11674'), ('ncbi', '226')),\n",
       " ('glucose-6-phosphate', ('chebi', '4170'), ('mesh', 'D019298')),\n",
       " ('Psat1', ('ncbi', '107272'), ('ncbi', '29968')),\n",
       " ('Phgdh', ('ncbi', '236539'), ('ncbi', '26227')),\n",
       " ('Prps2', ('ncbi', '110639'), ('ncbi', '5634')),\n",
       " ('Atic', ('ncbi', '108147'), ('ncbi', '471')),\n",
       " ('Gart', ('ncbi', '14450'), ('ncbi', '2618')),\n",
       " ('Pfas', ('ncbi', '237823'), ('ncbi', '5198')),\n",
       " ('Impdh1', ('ncbi', '23917'), ('ncbi', '3614')),\n",
       " ('mannose', ('chebi', '4208'), ('chebi', '37684')),\n",
       " ('SAM', ('chebi', '67040'), ('chebi', '15414')),\n",
       " ('nitrogen', ('chebi', '25555'), ('mesh', 'D009584')),\n",
       " ('hydrogen', ('chebi', '49637'), ('mesh', 'D006859')),\n",
       " ('CNA', ('ncbi', '5530'), ('chebi', '27864')),\n",
       " ('cytochrome c', ('chebi', '18070'), ('ncbi', '54205')),\n",
       " ('oxygen', ('chebi', '25805'), ('chebi', '15379')),\n",
       " ('fumarate', ('chebi', '18012'), ('chebi', '29806')),\n",
       " ('isocitrate', ('chebi', '30887'), ('chebi', '16087')),\n",
       " ('estrogen', ('chebi', '16469'), ('chebi', '50114')),\n",
       " ('malate', ('chebi', '6650'), ('chebi', '25115')),\n",
       " ('succinate', ('chebi', '15741'), ('chebi', '26806')),\n",
       " ('citrate', ('chebi', '30769'), ('chebi', '133748')),\n",
       " ('CaM', ('ncbi', '801'), ('fplx', 'CALM')),\n",
       " ('ARD1', ('ncbi', '8260'), ('ncbi', '373')),\n",
       " ('p62', ('ncbi', '23636'), ('ncbi', '8878')),\n",
       " ('lactate', ('chebi', '422'), ('chebi', '24996')),\n",
       " ('phosphate', ('chebi', '18367'), ('chebi', '26020')),\n",
       " ('3-phosphoglycerate', ('chebi', '17794'), ('chebi', '132960')),\n",
       " ('galactose', ('chebi', '28061'), ('chebi', '28260')),\n",
       " ('ICE1', ('ncbi', '822287'), ('ncbi', '23379')),\n",
       " ('OST1', ('ncbi', '829541'), ('ncbi', '6184')),\n",
       " ('CBL', ('ncbi', '817240'), ('ncbi', '867')),\n",
       " ('SOS2', ('ncbi', '833502'), ('ncbi', '6655')),\n",
       " ('ARD1', ('ncbi', '8260'), ('ncbi', '373')),\n",
       " ('p62', ('ncbi', '23636'), ('ncbi', '8878')),\n",
       " ('lactate', ('chebi', '422'), ('chebi', '24996')),\n",
       " ('phosphate', ('chebi', '18367'), ('chebi', '26020')),\n",
       " ('3-phosphoglycerate', ('chebi', '17794'), ('chebi', '132960')),\n",
       " ('galactose', ('chebi', '28061'), ('chebi', '28260')),\n",
       " ('p130', ('ncbi', '5934'), ('ncbi', '9564')),\n",
       " ('interferon-beta', ('ncbi', '3456'), ('fplx', 'IFNB')),\n",
       " ('inositol', ('chebi', '17268'), ('chebi', '24848')),\n",
       " ('p130', ('ncbi', '5934'), ('ncbi', '9564')),\n",
       " ('PDK1', ('ncbi', '5163'), ('ncbi', '5170')),\n",
       " ('ANKRD31', ('ncbi', '625662'), ('ncbi', '256006')),\n",
       " ('REC114', ('ncbi', '73673'), ('ncbi', '283677')),\n",
       " ('MEI4', ('ncbi', '75033'), ('ncbi', '101928601')),\n",
       " ('SYCP3', ('ncbi', '20962'), ('ncbi', '50511')),\n",
       " ('MEI1', ('ncbi', '74369'), ('ncbi', '150365')),\n",
       " ('SYCP1', ('ncbi', '20957'), ('ncbi', '6847')),\n",
       " ('DMC1', ('ncbi', '13404'), ('ncbi', '11144')),\n",
       " ('RAD51', ('ncbi', '19361'), ('ncbi', '5888')),\n",
       " ('histone H2AX', ('ncbi', '15270'), ('ncbi', '3014')),\n",
       " ('ATM', ('ncbi', '11920'), ('ncbi', '472')),\n",
       " ('MLH1', ('ncbi', '17350'), ('ncbi', '4292')),\n",
       " ('PRDM9', ('ncbi', '213389'), ('ncbi', '56979')),\n",
       " ('SPO11', ('ncbi', '26972'), ('ncbi', '23626')),\n",
       " ('CARM1', ('ncbi', '59035'), ('ncbi', '10498')),\n",
       " ('hematoxylin', ('chebi', '51686'), ('mesh', 'D006416')),\n",
       " ('cytochrome b5', ('ncbi', '1528'), ('chebi', '38553')),\n",
       " ('Chloramphenicol', ('chebi', '17698'), ('mesh', 'D002701')),\n",
       " ('Cathepsin C', ('ncbi', '1075'), ('mesh', 'D020789')),\n",
       " ('N-acetylglucosamine', ('chebi', '28009'), ('chebi', '59640')),\n",
       " ('ND1', ('ncbi', '4535'), ('ncbi', '10625')),\n",
       " ('PD-1', ('ncbi', '5133'), ('ncbi', '6139')),\n",
       " ('NBS1', ('ncbi', '4683'), ('ncbi', '55655')),\n",
       " ('guanosine monophosphate', ('chebi', '17345'), ('mesh', 'D006157')),\n",
       " ('Gpt', ('ncbi', '944817'), ('ncbi', '2875')),\n",
       " ('Hpt', ('ncbi', '946624'), ('ncbi', '3258')),\n",
       " ('Thymine', ('chebi', '17821'), ('mesh', 'D013941')),\n",
       " ('adenosine monophosphate', ('chebi', '16027'), ('mesh', 'D000249')),\n",
       " ('Cdc6', ('ncbi', '853244'), ('ncbi', '990')),\n",
       " ('Cks1', ('ncbi', '852432'), ('ncbi', '1163')),\n",
       " ('Cln2', ('ncbi', '855819'), ('ncbi', '1200')),\n",
       " ('Cdk1', ('ncbi', '852457'), ('ncbi', '983')),\n",
       " ('SIC1', ('ncbi', '850768'), ('ncbi', '2313')),\n",
       " ('CDH1', ('ncbi', '852881'), ('ncbi', '999')),\n",
       " ('GK', ('ncbi', '2645'), ('ncbi', '2710')),\n",
       " ('Acc', ('ncbi', '31'), ('fplx', 'ACC')),\n",
       " ('stearoyl-CoA desaturase', ('ncbi', '6319'), ('fplx', 'SCD'))]"
      ]
     },
     "execution_count": 10,
     "metadata": {},
     "output_type": "execute_result"
    }
   ],
   "source": [
    "comparison['grounded_different']"
   ]
  },
  {
   "cell_type": "markdown",
   "metadata": {},
   "source": [
    "Some key differences are:\n",
    "- The reference grounds some genes to organism-specific identifiers, whereas Gilda is running in human-only mode.\n",
    "- Some chemicals are grounded to MeSH by Gilda that are ChEBI in the reference - both groundings look correct. In fact, Gilda also returns ChEBI groundings but the MeSH groundings have a higher score in these cases.\n",
    "\n",
    "\n",
    "2. Gilda provides grounding for something that is ungrounded in the reference"
   ]
  },
  {
   "cell_type": "code",
   "execution_count": 11,
   "metadata": {},
   "outputs": [
    {
     "data": {
      "text/plain": [
       "[('replication protein A', (None, None), ('fplx', 'RPA')),\n",
       " ('PP2A', (None, None), ('fplx', 'PPP2')),\n",
       " ('APC', (None, None), ('ncbi', '324')),\n",
       " ('RPA', (None, None), ('fplx', 'RPA')),\n",
       " ('H4', (None, None), ('ncbi', '8030')),\n",
       " ('H2', (None, None), ('chebi', '18276')),\n",
       " ('IkappaB kinase', (None, None), ('fplx', 'IKK_family')),\n",
       " ('protein phosphatase 2b', (None, None), ('fplx', 'PPP3')),\n",
       " ('AMPK', (None, None), ('fplx', 'AMPK')),\n",
       " ('mTORC1', (None, None), ('fplx', 'mTORC1')),\n",
       " ('HIF-1', (None, None), ('fplx', 'HIF1')),\n",
       " ('NF-kappaB', (None, None), ('fplx', 'NFkappaB')),\n",
       " ('PI3K', (None, None), ('fplx', 'PI3K')),\n",
       " ('glutathione S-transferase', (None, None), ('fplx', 'GST')),\n",
       " ('CBF', (None, None), ('ncbi', '10153')),\n",
       " ('PI3K', (None, None), ('fplx', 'PI3K')),\n",
       " ('glutathione S-transferase', (None, None), ('fplx', 'GST')),\n",
       " ('PP1', (None, None), ('fplx', 'PPP1')),\n",
       " ('RPA', (None, None), ('fplx', 'RPA')),\n",
       " ('ER', (None, None), ('fplx', 'ESR')),\n",
       " ('AMPK', (None, None), ('fplx', 'AMPK')),\n",
       " ('RPA', (None, None), ('fplx', 'RPA')),\n",
       " ('CaM', (None, None), ('fplx', 'CALM')),\n",
       " ('DNA polymerase delta', (None, None), ('fplx', 'DNA_polymerase_delta')),\n",
       " ('sirtuins', (None, None), ('mesh', 'D037761')),\n",
       " ('RPA', (None, None), ('fplx', 'RPA')),\n",
       " ('topoisomerase IV', (None, None), ('mesh', 'D027101')),\n",
       " ('anaphase-promoting complex', (None, None), ('go', 'GO:0005680')),\n",
       " ('APC', (None, None), ('ncbi', '324')),\n",
       " ('SCF', (None, None), ('ncbi', '4254')),\n",
       " ('GFAT', (None, None), ('ncbi', '2673')),\n",
       " ('glutamine-fructose-6-phosphate aminotransferase',\n",
       "  (None, None),\n",
       "  ('mesh', 'D005945')),\n",
       " ('CIA', (None, None), ('ncbi', '57727')),\n",
       " ('Ubiquitin', (None, None), ('fplx', 'Ubiquitin')),\n",
       " ('alpha-tubulin', (None, None), ('fplx', 'TUBA'))]"
      ]
     },
     "execution_count": 11,
     "metadata": {},
     "output_type": "execute_result"
    }
   ],
   "source": [
    "comparison['ungrounded_grounded']"
   ]
  },
  {
   "cell_type": "markdown",
   "metadata": {},
   "source": [
    "The vast majority of these cases are protein families or complexes, all of which are covered by FamPlex, which is integrated by Gilda.\n",
    "\n",
    "3. Groundings provided by the reference that are ungrounded by Gilda"
   ]
  },
  {
   "cell_type": "code",
   "execution_count": 12,
   "metadata": {},
   "outputs": [
    {
     "data": {
      "text/plain": [
       "[('Pontin', ('ncbi', '8607'), (None, None)),\n",
       " ('Ndd1', ('ncbi', '854554'), (None, None)),\n",
       " ('Swe1', ('ncbi', '853252'), (None, None)),\n",
       " ('Sli15', ('ncbi', '852453'), (None, None)),\n",
       " ('Cdc55', ('ncbi', '852685'), (None, None)),\n",
       " ('Clb2', ('ncbi', '856236'), (None, None)),\n",
       " ('Clb5', ('ncbi', '856237'), (None, None)),\n",
       " ('Pph21', ('ncbi', '851421'), (None, None)),\n",
       " ('Ldh1', ('ncbi', '16828'), (None, None)),\n",
       " ('Pontin', ('ncbi', '8607'), (None, None)),\n",
       " ('miR-196b-3p', ('ncbi', '442920'), (None, None)),\n",
       " ('alpha-KG', ('chebi', '30915'), (None, None)),\n",
       " ('GDH1', ('ncbi', '2746'), (None, None)),\n",
       " ('GDH2', ('ncbi', '2747'), (None, None)),\n",
       " ('Snail3', ('ncbi', '333929'), (None, None)),\n",
       " ('CRPK1', ('ncbi', '838236'), (None, None)),\n",
       " ('CAMTA3', ('ncbi', '816762'), (None, None)),\n",
       " ('MYB15', ('ncbi', '821904'), (None, None)),\n",
       " ('open stomata 1', ('ncbi', '829541'), (None, None)),\n",
       " ('MKK2', ('ncbi', '829103'), (None, None)),\n",
       " ('AtCIPK3', ('ncbi', '817240'), (None, None)),\n",
       " ('brassinosteroid-insensitive 1-EMS suppressor 1',\n",
       "  ('ncbi', '838518'),\n",
       "  (None, None)),\n",
       " ('BES1', ('ncbi', '838518'), (None, None)),\n",
       " ('COR15B', ('ncbi', '818853'), (None, None)),\n",
       " ('RD29A', ('ncbi', '835307'), (None, None)),\n",
       " ('KIN1', ('ncbi', '831453'), (None, None)),\n",
       " ('14-3-3lambda', ('ncbi', '830909'), (None, None)),\n",
       " ('CYCD', ('ncbi', '595'), (None, None)),\n",
       " ('CYCE', ('ncbi', '898'), (None, None)),\n",
       " ('U6 snRNA', ('ncbi', '26827'), (None, None)),\n",
       " ('IFNlambda', ('ncbi', '282618'), (None, None)),\n",
       " ('CYCD', ('ncbi', '595'), (None, None)),\n",
       " ('CYCE', ('ncbi', '898'), (None, None)),\n",
       " ('U6 snRNA', ('ncbi', '26827'), (None, None)),\n",
       " ('miR-130', ('ncbi', '406919'), (None, None)),\n",
       " ('IHO1', ('ncbi', '434438'), (None, None)),\n",
       " ('gammaH2AX', ('ncbi', '15270'), (None, None)),\n",
       " ('LC3B', ('ncbi', '81631'), (None, None)),\n",
       " ('Cytb5', ('ncbi', '1528'), (None, None)),\n",
       " ('14-3-3eta', ('ncbi', '7533'), (None, None)),\n",
       " ('RPA32', ('ncbi', '6118'), (None, None)),\n",
       " ('YgdH', ('ncbi', '947266'), (None, None)),\n",
       " ('PpnN', ('ncbi', '947266'), (None, None)),\n",
       " ('pppGpp', ('chebi', '16690'), (None, None)),\n",
       " ('lacZ', ('ncbi', '945006'), (None, None)),\n",
       " ('Clb3', ('ncbi', '851400'), (None, None)),\n",
       " ('Clb5', ('ncbi', '856237'), (None, None)),\n",
       " ('Clb2', ('ncbi', '856236'), (None, None)),\n",
       " ('Swe1', ('ncbi', '853252'), (None, None)),\n",
       " ('Bni1', ('ncbi', '855450'), (None, None)),\n",
       " ('Bud3', ('ncbi', '850345'), (None, None)),\n",
       " ('Bud6', ('ncbi', '851029'), (None, None)),\n",
       " ('sterol regulatory element-binding protein-1C',\n",
       "  ('ncbi', '6720'),\n",
       "  (None, None)),\n",
       " ('L-Pk', ('ncbi', '5313'), (None, None)),\n",
       " ('Scd-1', ('ncbi', '6319'), (None, None))]"
      ]
     },
     "execution_count": 12,
     "metadata": {},
     "output_type": "execute_result"
    }
   ],
   "source": [
    "comparison['grounded_ungrounded']"
   ]
  },
  {
   "cell_type": "markdown",
   "metadata": {},
   "source": [
    "We can identify the following patterns above:\n",
    "- The reference grounds yeast-specific genes (Bni1, Bud3, Bud6, etc.) whereas Gilda is running in human-only mode.\n",
    "- Some synonyms are recognized by the reference that don't appear in a close enough form in either HGNC, UniProt, or FamPlex and are therefore not grounded (CYCD, CYCE, 14-3-3eta, etc.)"
   ]
  }
 ],
 "metadata": {
  "kernelspec": {
   "display_name": "Python 3",
   "language": "python",
   "name": "python3"
  },
  "language_info": {
   "codemirror_mode": {
    "name": "ipython",
    "version": 3
   },
   "file_extension": ".py",
   "mimetype": "text/x-python",
   "name": "python",
   "nbconvert_exporter": "python",
   "pygments_lexer": "ipython3",
   "version": "3.6.5"
  },
  "pycharm": {
   "stem_cell": {
    "cell_type": "raw",
    "metadata": {
     "collapsed": false
    },
    "source": []
   }
  }
 },
 "nbformat": 4,
 "nbformat_minor": 1
}
